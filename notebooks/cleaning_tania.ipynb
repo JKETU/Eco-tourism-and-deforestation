{
 "cells": [
  {
   "cell_type": "code",
   "execution_count": 1,
   "id": "6e62f07c-a6bb-40c8-9930-337d1db28c3d",
   "metadata": {},
   "outputs": [],
   "source": [
    "import pandas as pd\n"
   ]
  },
  {
   "cell_type": "code",
   "execution_count": 2,
   "id": "a037e992-ab90-48bc-8ae9-a3fa0183529f",
   "metadata": {},
   "outputs": [],
   "source": [
    "#Import raw data from countries names, codes and coordinates\n",
    "ref_countries=pd.read_csv('countries_codes_and_coordinates.csv')"
   ]
  },
  {
   "cell_type": "code",
   "execution_count": 15,
   "id": "930b62b7-1914-4524-957f-b1430634414e",
   "metadata": {},
   "outputs": [],
   "source": [
    "#Defining a list of countries for which code is defined  by norm ISO\n",
    "Countries_with_code =ref_countries['Country'].tolist()"
   ]
  },
  {
   "cell_type": "code",
   "execution_count": 3,
   "id": "34196eef-7ede-448a-8857-8bdc31ef2062",
   "metadata": {},
   "outputs": [],
   "source": [
    "#removing unvented columns\n",
    "ref_countries =ref_countries.drop(columns=['Alpha-2 code', 'Numeric code'])"
   ]
  },
  {
   "cell_type": "code",
   "execution_count": 5,
   "id": "f080abb6-9f21-4366-84c1-1bf63eaf5492",
   "metadata": {},
   "outputs": [],
   "source": [
    "#removing abnormal caracters and making primary keay as index 1\n",
    "ref_countries[\"Alpha-3 code\"] = ref_countries[\"Alpha-3 code\"].apply(lambda x : x.replace(\" \",\"\").replace('\"',\"\").replace(\"'\",\"\"))\n",
    "ref_countries[\"Latitude (average)\"] =ref_countries[\"Latitude (average)\"].apply(lambda x : x.replace(\" \",\"\").replace('\"',\"\").replace(\"'\",\"\"))\n",
    "ref_countries[\"Longitude (average)\"] =ref_countries[\"Longitude (average)\"].apply(lambda x : x.replace(\" \",\"\").replace('\"',\"\").replace(\"'\",\"\"))\n",
    "ref_countries= ref_countries.set_index(\"Alpha-3 code\")\n"
   ]
  },
  {
   "cell_type": "code",
   "execution_count": 6,
   "id": "c4200e34-7a81-4658-b593-222a46af5f3e",
   "metadata": {},
   "outputs": [],
   "source": [
    "#Import raw data from forest superficy\n",
    "df_forests=pd.read_csv('fra2020-extentofforest.csv')"
   ]
  },
  {
   "cell_type": "code",
   "execution_count": 7,
   "id": "4fa9ae1f-7f49-4adb-96ee-953ae3e2fa26",
   "metadata": {},
   "outputs": [],
   "source": [
    "#rename the name of the first column\n",
    "df_forests.columns = ['Country' if idx == 0 else col.replace(\" \", \"_\").lower() for idx, col in enumerate(df_forests.columns)]"
   ]
  },
  {
   "cell_type": "code",
   "execution_count": 8,
   "id": "793d57be-8608-4832-ace6-a603e89eb1d4",
   "metadata": {},
   "outputs": [],
   "source": [
    "#replace empty string values by NA\n",
    "df_forests['Country'].replace('', pd.NA, inplace=True)"
   ]
  },
  {
   "cell_type": "code",
   "execution_count": 9,
   "id": "bd348710-f97e-4adc-9862-cf539af57c0b",
   "metadata": {},
   "outputs": [
    {
     "name": "stdout",
     "output_type": "stream",
     "text": [
      "Are there missing values in the Country column? False\n"
     ]
    }
   ],
   "source": [
    "#checking that their is no missing values in the column name, so raws should be dropped\n",
    "has_missing_values = df_forests['Country'].isna().any() or (df_forests['Country'] == '').any()\n",
    "print(f'Are there missing values in the Country column? {has_missing_values}')"
   ]
  },
  {
   "cell_type": "code",
   "execution_count": 10,
   "id": "78dc1431-e97a-49c2-8dc0-e70234ead6a3",
   "metadata": {},
   "outputs": [],
   "source": [
    "# Add 'desk_study' column with boolean values\n",
    "df_forests['desk_study'] = df_forests['Country'].str.contains('Desk study', case=False, na=False)"
   ]
  },
  {
   "cell_type": "code",
   "execution_count": 11,
   "id": "6fa744a2-180c-41b3-8879-2c91fbf70dde",
   "metadata": {},
   "outputs": [
    {
     "data": {
      "text/plain": [
       "0"
      ]
     },
     "execution_count": 11,
     "metadata": {},
     "output_type": "execute_result"
    }
   ],
   "source": [
    "# checking for duplicates\n",
    "df_forests.duplicated().sum()"
   ]
  },
  {
   "cell_type": "code",
   "execution_count": 12,
   "id": "fc470254-080a-4dd5-a9e5-554545ae7375",
   "metadata": {},
   "outputs": [],
   "source": [
    "# Remove the substring '(Desk study)' from the 'Country' column\n",
    "df_forests['Country'] = df_forests['Country'].str.replace(r'\\s*\\(Desk study\\)', '', regex=True, case=False)"
   ]
  },
  {
   "cell_type": "code",
   "execution_count": 13,
   "id": "80a690fe-44b6-4c0a-aca3-d370a0fcf2db",
   "metadata": {},
   "outputs": [],
   "source": [
    "df_forests_cleaned = df_forests.copy()"
   ]
  },
  {
   "cell_type": "code",
   "execution_count": 16,
   "id": "829275c3-5493-4aa5-9db3-248ea5b88b6e",
   "metadata": {
    "scrolled": true
   },
   "outputs": [
    {
     "name": "stdout",
     "output_type": "stream",
     "text": [
      "Number of rows with Country values not in the list: 26\n",
      "                                               Country       1990       2000  \\\n",
      "24                    Bolivia (Plurinational State of)   57804.72   55101.39   \n",
      "29                              British Virgin Islands       3.71       3.67   \n",
      "34                                          Cabo Verde      15.38      39.72   \n",
      "53                                             Czechia    2629.42    2637.29   \n",
      "54               Democratic People's Republic of Korea    6912.03    6454.69   \n",
      "55                    Democratic Republic of the Congo  150629.00  143899.00   \n",
      "66                                            Eswatini     461.14     473.28   \n",
      "73                                       French Guyana    8125.00    8079.44   \n",
      "92                                            Holy See       0.00       0.00   \n",
      "98                          Iran (Islamic Republic of)    9076.06    9325.66   \n",
      "134                   Micronesia (Federated States of)      63.58      63.86   \n",
      "153                                    North Macedonia     912.00     957.55   \n",
      "159                                          Palestine       9.08       9.08   \n",
      "170                                  Republic of Korea    6551.00    6476.00   \n",
      "171                                Republic of Moldova     325.40     344.40   \n",
      "177                                       Saint Helena       2.00       2.00   \n",
      "182                         Saint-Martin (French Part)       1.24       1.24   \n",
      "203                     Svalbard and Jan Mayen Islands       0.00       0.00   \n",
      "222  United Kingdom of Great Britain and Northern I...    2778.00    2954.00   \n",
      "223                        United Republic of Tanzania   57390.01   53670.01   \n",
      "224                       United States Virgin Islands      24.54      20.47   \n",
      "225                           United States of America  302450.00  303536.00   \n",
      "229                 Venezuela (Bolivarian Republic of)   52026.00   49151.00   \n",
      "231                          Wallis and Futuna Islands       5.80       5.81   \n",
      "236                                         © FRA 2021        NaN        NaN   \n",
      "237                                         2021-01-05        NaN        NaN   \n",
      "\n",
      "          2010       2015       2016       2017       2018       2019  \\\n",
      "24    53086.01   52027.22   51750.68   51492.22   51253.24   51033.76   \n",
      "29        3.64       3.62       3.62       3.62       3.62       3.62   \n",
      "34       42.72      44.22      44.52      44.82      45.12      45.42   \n",
      "53     2657.38    2668.39    2669.85    2671.66    2673.47    2675.28   \n",
      "54     6242.39    6136.24    6115.01    6093.78    6072.55    6051.32   \n",
      "55   137169.00  131662.12  130560.74  129459.37  128357.99  127256.61   \n",
      "66      485.43     491.50     492.72     493.93     495.14     496.35   \n",
      "73     8036.50    8020.00    8016.57    8013.14    8009.71    8006.28   \n",
      "92        0.00       0.00       0.00       0.00       0.00       0.00   \n",
      "98    10691.98   10691.98   10702.08   10710.59   10727.03   10743.47   \n",
      "134      64.13      64.27      64.30      64.33      64.36      64.39   \n",
      "153     960.43     994.40    1001.67    1001.49    1001.49    1001.49   \n",
      "159       9.95      10.14      10.14      10.14      10.14      10.14   \n",
      "170    6387.00    6337.00    6325.00    6317.00    6307.00    6297.00   \n",
      "171     374.50     386.40     386.50     386.50     386.50     386.50   \n",
      "177       2.00       2.00       2.00       2.00       2.00       2.00   \n",
      "182       1.24       1.24       1.24       1.24       1.24       1.24   \n",
      "203       0.00       0.00       0.00       0.00       0.00       0.00   \n",
      "222    3059.00    3155.00    3159.00    3164.00    3173.00    3182.00   \n",
      "223   49950.01   48090.00   47621.00   47152.00   46683.00   46214.00   \n",
      "224      18.43      19.16      19.31      19.46      19.61      19.76   \n",
      "225  308720.00  310095.00  310095.00  309795.00  309795.00  309795.00   \n",
      "229   47505.00   46683.00   46543.26   46428.18   46337.76   46272.00   \n",
      "231       5.82       5.83       5.83       5.83       5.83       5.83   \n",
      "236        NaN        NaN        NaN        NaN        NaN        NaN   \n",
      "237        NaN        NaN        NaN        NaN        NaN        NaN   \n",
      "\n",
      "          2020  desk_study  \n",
      "24    50833.76       False  \n",
      "29        3.62        True  \n",
      "34       45.72       False  \n",
      "53     2677.09       False  \n",
      "54     6030.09        True  \n",
      "55   126155.24       False  \n",
      "66      497.56       False  \n",
      "73     8002.85       False  \n",
      "92        0.00        True  \n",
      "98    10751.87       False  \n",
      "134      64.42       False  \n",
      "153    1001.49        True  \n",
      "159      10.14        True  \n",
      "170    6287.00       False  \n",
      "171     386.50       False  \n",
      "177       2.00        True  \n",
      "182       1.24        True  \n",
      "203       0.00       False  \n",
      "222    3190.00       False  \n",
      "223   45745.00       False  \n",
      "224      19.91       False  \n",
      "225  309795.00       False  \n",
      "229   46230.90       False  \n",
      "231       5.83        True  \n",
      "236        NaN       False  \n",
      "237        NaN       False  \n"
     ]
    }
   ],
   "source": [
    "#comparing values of country in df forest vs df countries ref\n",
    "not_in_list = df_forests_cleaned[~df_forests_cleaned['Country'].isin(Countries_with_code)]\n",
    "\n",
    "# Count the number of such rows\n",
    "count_not_in_list = not_in_list.shape[0]\n",
    "\n",
    "print(f'Number of rows with Country values not in the list: {count_not_in_list}')\n",
    "print(not_in_list)\n"
   ]
  },
  {
   "cell_type": "code",
   "execution_count": 27,
   "id": "4d5c4e17-e5c7-401e-82fb-121e502827e2",
   "metadata": {},
   "outputs": [
    {
     "name": "stdout",
     "output_type": "stream",
     "text": [
      "                                               Country       1990       2000  \\\n",
      "24                    Bolivia (Plurinational State of)   57804.72   55101.39   \n",
      "29                              British Virgin Islands       3.71       3.67   \n",
      "34                                          Cabo Verde      15.38      39.72   \n",
      "53                                             Czechia    2629.42    2637.29   \n",
      "54               Democratic People's Republic of Korea    6912.03    6454.69   \n",
      "55                    Democratic Republic of the Congo  150629.00  143899.00   \n",
      "66                                            Eswatini     461.14     473.28   \n",
      "73                                       French Guyana    8125.00    8079.44   \n",
      "92                                            Holy See       0.00       0.00   \n",
      "98                          Iran (Islamic Republic of)    9076.06    9325.66   \n",
      "134                   Micronesia (Federated States of)      63.58      63.86   \n",
      "153                                    North Macedonia     912.00     957.55   \n",
      "159                                          Palestine       9.08       9.08   \n",
      "170                                  Republic of Korea    6551.00    6476.00   \n",
      "171                                Republic of Moldova     325.40     344.40   \n",
      "177                                       Saint Helena       2.00       2.00   \n",
      "182                         Saint-Martin (French Part)       1.24       1.24   \n",
      "203                     Svalbard and Jan Mayen Islands       0.00       0.00   \n",
      "222  United Kingdom of Great Britain and Northern I...    2778.00    2954.00   \n",
      "223                        United Republic of Tanzania   57390.01   53670.01   \n",
      "224                       United States Virgin Islands      24.54      20.47   \n",
      "225                           United States of America  302450.00  303536.00   \n",
      "229                 Venezuela (Bolivarian Republic of)   52026.00   49151.00   \n",
      "231                          Wallis and Futuna Islands       5.80       5.81   \n",
      "236                                         © FRA 2021        NaN        NaN   \n",
      "237                                         2021-01-05        NaN        NaN   \n",
      "\n",
      "          2010       2015       2016       2017       2018       2019  \\\n",
      "24    53086.01   52027.22   51750.68   51492.22   51253.24   51033.76   \n",
      "29        3.64       3.62       3.62       3.62       3.62       3.62   \n",
      "34       42.72      44.22      44.52      44.82      45.12      45.42   \n",
      "53     2657.38    2668.39    2669.85    2671.66    2673.47    2675.28   \n",
      "54     6242.39    6136.24    6115.01    6093.78    6072.55    6051.32   \n",
      "55   137169.00  131662.12  130560.74  129459.37  128357.99  127256.61   \n",
      "66      485.43     491.50     492.72     493.93     495.14     496.35   \n",
      "73     8036.50    8020.00    8016.57    8013.14    8009.71    8006.28   \n",
      "92        0.00       0.00       0.00       0.00       0.00       0.00   \n",
      "98    10691.98   10691.98   10702.08   10710.59   10727.03   10743.47   \n",
      "134      64.13      64.27      64.30      64.33      64.36      64.39   \n",
      "153     960.43     994.40    1001.67    1001.49    1001.49    1001.49   \n",
      "159       9.95      10.14      10.14      10.14      10.14      10.14   \n",
      "170    6387.00    6337.00    6325.00    6317.00    6307.00    6297.00   \n",
      "171     374.50     386.40     386.50     386.50     386.50     386.50   \n",
      "177       2.00       2.00       2.00       2.00       2.00       2.00   \n",
      "182       1.24       1.24       1.24       1.24       1.24       1.24   \n",
      "203       0.00       0.00       0.00       0.00       0.00       0.00   \n",
      "222    3059.00    3155.00    3159.00    3164.00    3173.00    3182.00   \n",
      "223   49950.01   48090.00   47621.00   47152.00   46683.00   46214.00   \n",
      "224      18.43      19.16      19.31      19.46      19.61      19.76   \n",
      "225  308720.00  310095.00  310095.00  309795.00  309795.00  309795.00   \n",
      "229   47505.00   46683.00   46543.26   46428.18   46337.76   46272.00   \n",
      "231       5.82       5.83       5.83       5.83       5.83       5.83   \n",
      "236        NaN        NaN        NaN        NaN        NaN        NaN   \n",
      "237        NaN        NaN        NaN        NaN        NaN        NaN   \n",
      "\n",
      "          2020  desk_study  \n",
      "24    50833.76       False  \n",
      "29        3.62        True  \n",
      "34       45.72       False  \n",
      "53     2677.09       False  \n",
      "54     6030.09        True  \n",
      "55   126155.24       False  \n",
      "66      497.56       False  \n",
      "73     8002.85       False  \n",
      "92        0.00        True  \n",
      "98    10751.87       False  \n",
      "134      64.42       False  \n",
      "153    1001.49        True  \n",
      "159      10.14        True  \n",
      "170    6287.00       False  \n",
      "171     386.50       False  \n",
      "177       2.00        True  \n",
      "182       1.24        True  \n",
      "203       0.00       False  \n",
      "222    3190.00       False  \n",
      "223   45745.00       False  \n",
      "224      19.91       False  \n",
      "225  309795.00       False  \n",
      "229   46230.90       False  \n",
      "231       5.83        True  \n",
      "236        NaN       False  \n",
      "237        NaN       False  \n"
     ]
    }
   ],
   "source": [
    "# Create a new DataFrame df_forests_cleaned_leftover with rows where 'Country' is not in Countries_with_code\n",
    "df_forests_cleaned_leftover = df_forests_cleaned[~df_forests_cleaned['Country'].isin(Countries_with_code)]\n",
    "\n",
    "# Display the result\n",
    "print(df_forests_cleaned_leftover)"
   ]
  },
  {
   "cell_type": "code",
   "execution_count": 28,
   "id": "de198fab-588b-433c-b87a-9f77bb8f3e15",
   "metadata": {},
   "outputs": [],
   "source": [
    "df_forests_cleaned_leftover.to_csv('fra2020-extentofforest_cleaned_leftover.csv', index=False)"
   ]
  },
  {
   "cell_type": "code",
   "execution_count": 29,
   "id": "73625d3c-5ca0-4427-a07a-95acb6b0860c",
   "metadata": {},
   "outputs": [],
   "source": [
    "df_forests_cleaned = df_forests_cleaned[df_forests_cleaned['Country'].isin(Countries_with_code)]"
   ]
  },
  {
   "cell_type": "code",
   "execution_count": 30,
   "id": "28d02e7e-6875-4a49-94ac-874bddd38d3b",
   "metadata": {},
   "outputs": [],
   "source": [
    "df_forests_cleaned.to_csv('fra2020-extentofforest_cleaned.csv', index=False)"
   ]
  },
  {
   "cell_type": "code",
   "execution_count": 32,
   "id": "19ce89a9-b2e3-4dda-a7e9-12c94d5eb852",
   "metadata": {},
   "outputs": [],
   "source": []
  },
  {
   "cell_type": "code",
   "execution_count": 33,
   "id": "397621c2-9da1-4eae-abad-c3206dbc512b",
   "metadata": {},
   "outputs": [
    {
     "data": {
      "text/plain": [
       "Index(['Country', 'Alpha-3 code', 'Latitude (average)', 'Longitude (average)'], dtype='object')"
      ]
     },
     "execution_count": 33,
     "metadata": {},
     "output_type": "execute_result"
    }
   ],
   "source": [
    "ref_countries.columns"
   ]
  },
  {
   "cell_type": "code",
   "execution_count": 35,
   "id": "3901afcc-9450-4548-b543-d06e8299d20b",
   "metadata": {},
   "outputs": [],
   "source": [
    "ref_countries.to_csv('countries_codes_and_coordinates_cleaned.csv', index=False)"
   ]
  },
  {
   "cell_type": "code",
   "execution_count": null,
   "id": "7c17a0b8-2c16-4747-a25f-ecc6d293d1bb",
   "metadata": {},
   "outputs": [],
   "source": []
  }
 ],
 "metadata": {
  "kernelspec": {
   "display_name": "Python 3 (ipykernel)",
   "language": "python",
   "name": "python3"
  },
  "language_info": {
   "codemirror_mode": {
    "name": "ipython",
    "version": 3
   },
   "file_extension": ".py",
   "mimetype": "text/x-python",
   "name": "python",
   "nbconvert_exporter": "python",
   "pygments_lexer": "ipython3",
   "version": "3.12.4"
  }
 },
 "nbformat": 4,
 "nbformat_minor": 5
}

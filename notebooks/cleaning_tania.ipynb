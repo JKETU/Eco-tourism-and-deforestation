{
 "cells": [
  {
   "cell_type": "code",
   "execution_count": 1,
   "id": "6e62f07c-a6bb-40c8-9930-337d1db28c3d",
   "metadata": {},
   "outputs": [],
   "source": [
    "import pandas as pd\n",
    "ref_countries=pd.read_csv('countries_codes_and_coordinates.csv')"
   ]
  },
  {
   "cell_type": "code",
   "execution_count": 31,
   "id": "62efe08f-fabb-4e2d-8781-f0b27e9fa13f",
   "metadata": {},
   "outputs": [
    {
     "name": "stdout",
     "output_type": "stream",
     "text": [
      "          Country Alpha-2 code Alpha-3 code Numeric code Latitude (average)  \\\n",
      "0     Afghanistan         \"AF\"        \"AFG\"          \"4\"               \"33\"   \n",
      "1   Åland Islands         \"AX\"        \"ALA\"        \"248\"        \"60.116667\"   \n",
      "2         Albania         \"AL\"        \"ALB\"          \"8\"               \"41\"   \n",
      "3         Algeria         \"DZ\"        \"DZA\"         \"12\"               \"28\"   \n",
      "4  American Samoa         \"AS\"        \"ASM\"         \"16\"         \"-14.3333\"   \n",
      "\n",
      "  Longitude (average)  \n",
      "0                \"65\"  \n",
      "1              \"19.9\"  \n",
      "2                \"20\"  \n",
      "3                 \"3\"  \n",
      "4              \"-170\"  \n",
      "Index(['Country', 'Alpha-2 code', 'Alpha-3 code', 'Numeric code',\n",
      "       'Latitude (average)', 'Longitude (average)'],\n",
      "      dtype='object')\n"
     ]
    }
   ],
   "source": [
    "print(ref_countries.head())\n",
    "print(ref_countries.columns)"
   ]
  },
  {
   "cell_type": "code",
   "execution_count": 4,
   "id": "287622ed-538c-4e95-a29a-0d4a611ce200",
   "metadata": {},
   "outputs": [
    {
     "data": {
      "text/plain": [
       "(262, 6)"
      ]
     },
     "execution_count": 4,
     "metadata": {},
     "output_type": "execute_result"
    }
   ],
   "source": [
    "ref_countries.shape"
   ]
  },
  {
   "cell_type": "code",
   "execution_count": 20,
   "id": "930b62b7-1914-4524-957f-b1430634414e",
   "metadata": {},
   "outputs": [],
   "source": [
    "Countries_with_code =ref_countries['Country'].tolist()"
   ]
  },
  {
   "cell_type": "code",
   "execution_count": 2,
   "id": "c4200e34-7a81-4658-b593-222a46af5f3e",
   "metadata": {},
   "outputs": [],
   "source": [
    "df_forests=pd.read_csv('fra2020-extentofforest.csv')"
   ]
  },
  {
   "cell_type": "code",
   "execution_count": 10,
   "id": "db23a910-fe9c-4165-a8e6-4bc4cf836418",
   "metadata": {},
   "outputs": [
    {
     "data": {
      "text/plain": [
       "Index(['Unnamed: 0', '1990', '2000', '2010', '2015', '2016', '2017', '2018',\n",
       "       '2019', '2020'],\n",
       "      dtype='object')"
      ]
     },
     "execution_count": 10,
     "metadata": {},
     "output_type": "execute_result"
    }
   ],
   "source": [
    "df_forests.columns"
   ]
  },
  {
   "cell_type": "code",
   "execution_count": 8,
   "id": "7501af85-fdfb-466f-9c36-54f315fa0966",
   "metadata": {},
   "outputs": [
    {
     "data": {
      "text/plain": [
       "<bound method NDFrame.head of                Unnamed: 0      1990      2000      2010      2015      2016  \\\n",
       "0             Afghanistan   1208.44   1208.44   1208.44   1208.44   1208.44   \n",
       "1    Albania (Desk study)    788.80    769.30    782.07    789.19    789.18   \n",
       "2                 Algeria   1667.00   1579.00   1918.00   1956.00   1956.00   \n",
       "3          American Samoa     18.07     17.73     17.43     17.28     17.25   \n",
       "4                 Andorra     16.00     16.00     16.00     16.00     16.00   \n",
       "..                    ...       ...       ...       ...       ...       ...   \n",
       "233                 Yemen    549.00    549.00    549.00    549.00    549.00   \n",
       "234                Zambia  47412.00  47054.00  46696.00  45755.10  45566.80   \n",
       "235              Zimbabwe  18826.68  18365.98  17905.28  17674.93  17628.86   \n",
       "236            © FRA 2021       NaN       NaN       NaN       NaN       NaN   \n",
       "237            2021-01-05       NaN       NaN       NaN       NaN       NaN   \n",
       "\n",
       "         2017      2018      2019      2020  \n",
       "0     1208.44   1208.44   1208.44   1208.44  \n",
       "1      788.90    788.90    788.90    788.90  \n",
       "2     1943.00   1930.00   1939.00   1949.00  \n",
       "3       17.22     17.19     17.16     17.13  \n",
       "4       16.00     16.00     16.00     16.00  \n",
       "..        ...       ...       ...       ...  \n",
       "233    549.00    549.00    549.00    549.00  \n",
       "234  45378.67  45190.46  45002.24  44814.03  \n",
       "235  17582.79  17536.72  17490.65  17444.58  \n",
       "236       NaN       NaN       NaN       NaN  \n",
       "237       NaN       NaN       NaN       NaN  \n",
       "\n",
       "[238 rows x 10 columns]>"
      ]
     },
     "metadata": {},
     "output_type": "display_data"
    }
   ],
   "source": [
    "display(df_forests.head)"
   ]
  },
  {
   "cell_type": "code",
   "execution_count": 7,
   "id": "4fa9ae1f-7f49-4adb-96ee-953ae3e2fa26",
   "metadata": {},
   "outputs": [],
   "source": [
    "#to keep\n",
    "df_forests.columns = ['Country' if idx == 0 else col.replace(\" \", \"_\").lower() for idx, col in enumerate(df_forests.columns)]"
   ]
  },
  {
   "cell_type": "code",
   "execution_count": 8,
   "id": "d481ad78-6ece-413c-9aec-376d4984c22c",
   "metadata": {},
   "outputs": [
    {
     "data": {
      "text/plain": [
       "Index(['Country', '1990', '2000', '2010', '2015', '2016', '2017', '2018',\n",
       "       '2019', '2020'],\n",
       "      dtype='object')"
      ]
     },
     "execution_count": 8,
     "metadata": {},
     "output_type": "execute_result"
    }
   ],
   "source": [
    "df_forests.columns"
   ]
  },
  {
   "cell_type": "code",
   "execution_count": 9,
   "id": "793d57be-8608-4832-ace6-a603e89eb1d4",
   "metadata": {},
   "outputs": [],
   "source": [
    "df_forests['Country'].replace('', pd.NA, inplace=True)"
   ]
  },
  {
   "cell_type": "code",
   "execution_count": 10,
   "id": "bd348710-f97e-4adc-9862-cf539af57c0b",
   "metadata": {},
   "outputs": [
    {
     "name": "stdout",
     "output_type": "stream",
     "text": [
      "Are there missing values in the Country column? False\n"
     ]
    }
   ],
   "source": [
    "has_missing_values = df_forests['Country'].isna().any() or (df_forests['Country'] == '').any()\n",
    "\n",
    "# Output the result\n",
    "print(f'Are there missing values in the Country column? {has_missing_values}')"
   ]
  },
  {
   "cell_type": "code",
   "execution_count": 12,
   "id": "78dc1431-e97a-49c2-8dc0-e70234ead6a3",
   "metadata": {},
   "outputs": [],
   "source": [
    "# Add 'desk_study' column with boolean values\n",
    "df_forests['desk_study'] = df_forests['Country'].str.contains('Desk study', case=False, na=False)"
   ]
  },
  {
   "cell_type": "code",
   "execution_count": 13,
   "id": "cd11e53d-ba03-4293-8edd-edb5baaa6706",
   "metadata": {},
   "outputs": [
    {
     "data": {
      "text/plain": [
       "Index(['Country', '1990', '2000', '2010', '2015', '2016', '2017', '2018',\n",
       "       '2019', '2020', 'desk_study'],\n",
       "      dtype='object')"
      ]
     },
     "execution_count": 13,
     "metadata": {},
     "output_type": "execute_result"
    }
   ],
   "source": [
    "df_forests.columns"
   ]
  },
  {
   "cell_type": "code",
   "execution_count": 14,
   "id": "6fa744a2-180c-41b3-8879-2c91fbf70dde",
   "metadata": {},
   "outputs": [
    {
     "data": {
      "text/plain": [
       "0"
      ]
     },
     "execution_count": 14,
     "metadata": {},
     "output_type": "execute_result"
    }
   ],
   "source": [
    "#no duplicates\n",
    "df_forests.duplicated().sum()"
   ]
  },
  {
   "cell_type": "code",
   "execution_count": 15,
   "id": "fc470254-080a-4dd5-a9e5-554545ae7375",
   "metadata": {},
   "outputs": [],
   "source": [
    "# Remove the substring '(Desk study)' from the 'Country' column\n",
    "df_forests['Country'] = df_forests['Country'].str.replace(r'\\s*\\(Desk study\\)', '', regex=True, case=False)"
   ]
  },
  {
   "cell_type": "code",
   "execution_count": 16,
   "id": "54f09087-babe-47c9-98bc-61aff0befde9",
   "metadata": {},
   "outputs": [
    {
     "data": {
      "text/html": [
       "<div>\n",
       "<style scoped>\n",
       "    .dataframe tbody tr th:only-of-type {\n",
       "        vertical-align: middle;\n",
       "    }\n",
       "\n",
       "    .dataframe tbody tr th {\n",
       "        vertical-align: top;\n",
       "    }\n",
       "\n",
       "    .dataframe thead th {\n",
       "        text-align: right;\n",
       "    }\n",
       "</style>\n",
       "<table border=\"1\" class=\"dataframe\">\n",
       "  <thead>\n",
       "    <tr style=\"text-align: right;\">\n",
       "      <th></th>\n",
       "      <th>Country</th>\n",
       "      <th>1990</th>\n",
       "      <th>2000</th>\n",
       "      <th>2010</th>\n",
       "      <th>2015</th>\n",
       "      <th>2016</th>\n",
       "      <th>2017</th>\n",
       "      <th>2018</th>\n",
       "      <th>2019</th>\n",
       "      <th>2020</th>\n",
       "      <th>desk_study</th>\n",
       "    </tr>\n",
       "  </thead>\n",
       "  <tbody>\n",
       "    <tr>\n",
       "      <th>0</th>\n",
       "      <td>Afghanistan</td>\n",
       "      <td>1208.44</td>\n",
       "      <td>1208.44</td>\n",
       "      <td>1208.44</td>\n",
       "      <td>1208.44</td>\n",
       "      <td>1208.44</td>\n",
       "      <td>1208.44</td>\n",
       "      <td>1208.44</td>\n",
       "      <td>1208.44</td>\n",
       "      <td>1208.44</td>\n",
       "      <td>False</td>\n",
       "    </tr>\n",
       "    <tr>\n",
       "      <th>1</th>\n",
       "      <td>Albania</td>\n",
       "      <td>788.80</td>\n",
       "      <td>769.30</td>\n",
       "      <td>782.07</td>\n",
       "      <td>789.19</td>\n",
       "      <td>789.18</td>\n",
       "      <td>788.90</td>\n",
       "      <td>788.90</td>\n",
       "      <td>788.90</td>\n",
       "      <td>788.90</td>\n",
       "      <td>True</td>\n",
       "    </tr>\n",
       "    <tr>\n",
       "      <th>2</th>\n",
       "      <td>Algeria</td>\n",
       "      <td>1667.00</td>\n",
       "      <td>1579.00</td>\n",
       "      <td>1918.00</td>\n",
       "      <td>1956.00</td>\n",
       "      <td>1956.00</td>\n",
       "      <td>1943.00</td>\n",
       "      <td>1930.00</td>\n",
       "      <td>1939.00</td>\n",
       "      <td>1949.00</td>\n",
       "      <td>False</td>\n",
       "    </tr>\n",
       "    <tr>\n",
       "      <th>3</th>\n",
       "      <td>American Samoa</td>\n",
       "      <td>18.07</td>\n",
       "      <td>17.73</td>\n",
       "      <td>17.43</td>\n",
       "      <td>17.28</td>\n",
       "      <td>17.25</td>\n",
       "      <td>17.22</td>\n",
       "      <td>17.19</td>\n",
       "      <td>17.16</td>\n",
       "      <td>17.13</td>\n",
       "      <td>False</td>\n",
       "    </tr>\n",
       "    <tr>\n",
       "      <th>4</th>\n",
       "      <td>Andorra</td>\n",
       "      <td>16.00</td>\n",
       "      <td>16.00</td>\n",
       "      <td>16.00</td>\n",
       "      <td>16.00</td>\n",
       "      <td>16.00</td>\n",
       "      <td>16.00</td>\n",
       "      <td>16.00</td>\n",
       "      <td>16.00</td>\n",
       "      <td>16.00</td>\n",
       "      <td>False</td>\n",
       "    </tr>\n",
       "  </tbody>\n",
       "</table>\n",
       "</div>"
      ],
      "text/plain": [
       "          Country     1990     2000     2010     2015     2016     2017  \\\n",
       "0     Afghanistan  1208.44  1208.44  1208.44  1208.44  1208.44  1208.44   \n",
       "1         Albania   788.80   769.30   782.07   789.19   789.18   788.90   \n",
       "2         Algeria  1667.00  1579.00  1918.00  1956.00  1956.00  1943.00   \n",
       "3  American Samoa    18.07    17.73    17.43    17.28    17.25    17.22   \n",
       "4         Andorra    16.00    16.00    16.00    16.00    16.00    16.00   \n",
       "\n",
       "      2018     2019     2020  desk_study  \n",
       "0  1208.44  1208.44  1208.44       False  \n",
       "1   788.90   788.90   788.90        True  \n",
       "2  1930.00  1939.00  1949.00       False  \n",
       "3    17.19    17.16    17.13       False  \n",
       "4    16.00    16.00    16.00       False  "
      ]
     },
     "execution_count": 16,
     "metadata": {},
     "output_type": "execute_result"
    }
   ],
   "source": [
    "df_forests.head()"
   ]
  },
  {
   "cell_type": "code",
   "execution_count": 17,
   "id": "80a690fe-44b6-4c0a-aca3-d370a0fcf2db",
   "metadata": {},
   "outputs": [],
   "source": [
    "df_forests_cleaned = df_forests.copy()"
   ]
  },
  {
   "cell_type": "code",
   "execution_count": 18,
   "id": "e228e55c-ea10-42b1-bad2-e059f385b25a",
   "metadata": {},
   "outputs": [
    {
     "data": {
      "text/html": [
       "<div>\n",
       "<style scoped>\n",
       "    .dataframe tbody tr th:only-of-type {\n",
       "        vertical-align: middle;\n",
       "    }\n",
       "\n",
       "    .dataframe tbody tr th {\n",
       "        vertical-align: top;\n",
       "    }\n",
       "\n",
       "    .dataframe thead th {\n",
       "        text-align: right;\n",
       "    }\n",
       "</style>\n",
       "<table border=\"1\" class=\"dataframe\">\n",
       "  <thead>\n",
       "    <tr style=\"text-align: right;\">\n",
       "      <th></th>\n",
       "      <th>Country</th>\n",
       "      <th>1990</th>\n",
       "      <th>2000</th>\n",
       "      <th>2010</th>\n",
       "      <th>2015</th>\n",
       "      <th>2016</th>\n",
       "      <th>2017</th>\n",
       "      <th>2018</th>\n",
       "      <th>2019</th>\n",
       "      <th>2020</th>\n",
       "      <th>desk_study</th>\n",
       "    </tr>\n",
       "  </thead>\n",
       "  <tbody>\n",
       "    <tr>\n",
       "      <th>0</th>\n",
       "      <td>Afghanistan</td>\n",
       "      <td>1208.44</td>\n",
       "      <td>1208.44</td>\n",
       "      <td>1208.44</td>\n",
       "      <td>1208.44</td>\n",
       "      <td>1208.44</td>\n",
       "      <td>1208.44</td>\n",
       "      <td>1208.44</td>\n",
       "      <td>1208.44</td>\n",
       "      <td>1208.44</td>\n",
       "      <td>False</td>\n",
       "    </tr>\n",
       "    <tr>\n",
       "      <th>1</th>\n",
       "      <td>Albania</td>\n",
       "      <td>788.80</td>\n",
       "      <td>769.30</td>\n",
       "      <td>782.07</td>\n",
       "      <td>789.19</td>\n",
       "      <td>789.18</td>\n",
       "      <td>788.90</td>\n",
       "      <td>788.90</td>\n",
       "      <td>788.90</td>\n",
       "      <td>788.90</td>\n",
       "      <td>True</td>\n",
       "    </tr>\n",
       "    <tr>\n",
       "      <th>2</th>\n",
       "      <td>Algeria</td>\n",
       "      <td>1667.00</td>\n",
       "      <td>1579.00</td>\n",
       "      <td>1918.00</td>\n",
       "      <td>1956.00</td>\n",
       "      <td>1956.00</td>\n",
       "      <td>1943.00</td>\n",
       "      <td>1930.00</td>\n",
       "      <td>1939.00</td>\n",
       "      <td>1949.00</td>\n",
       "      <td>False</td>\n",
       "    </tr>\n",
       "    <tr>\n",
       "      <th>3</th>\n",
       "      <td>American Samoa</td>\n",
       "      <td>18.07</td>\n",
       "      <td>17.73</td>\n",
       "      <td>17.43</td>\n",
       "      <td>17.28</td>\n",
       "      <td>17.25</td>\n",
       "      <td>17.22</td>\n",
       "      <td>17.19</td>\n",
       "      <td>17.16</td>\n",
       "      <td>17.13</td>\n",
       "      <td>False</td>\n",
       "    </tr>\n",
       "    <tr>\n",
       "      <th>4</th>\n",
       "      <td>Andorra</td>\n",
       "      <td>16.00</td>\n",
       "      <td>16.00</td>\n",
       "      <td>16.00</td>\n",
       "      <td>16.00</td>\n",
       "      <td>16.00</td>\n",
       "      <td>16.00</td>\n",
       "      <td>16.00</td>\n",
       "      <td>16.00</td>\n",
       "      <td>16.00</td>\n",
       "      <td>False</td>\n",
       "    </tr>\n",
       "  </tbody>\n",
       "</table>\n",
       "</div>"
      ],
      "text/plain": [
       "          Country     1990     2000     2010     2015     2016     2017  \\\n",
       "0     Afghanistan  1208.44  1208.44  1208.44  1208.44  1208.44  1208.44   \n",
       "1         Albania   788.80   769.30   782.07   789.19   789.18   788.90   \n",
       "2         Algeria  1667.00  1579.00  1918.00  1956.00  1956.00  1943.00   \n",
       "3  American Samoa    18.07    17.73    17.43    17.28    17.25    17.22   \n",
       "4         Andorra    16.00    16.00    16.00    16.00    16.00    16.00   \n",
       "\n",
       "      2018     2019     2020  desk_study  \n",
       "0  1208.44  1208.44  1208.44       False  \n",
       "1   788.90   788.90   788.90        True  \n",
       "2  1930.00  1939.00  1949.00       False  \n",
       "3    17.19    17.16    17.13       False  \n",
       "4    16.00    16.00    16.00       False  "
      ]
     },
     "execution_count": 18,
     "metadata": {},
     "output_type": "execute_result"
    }
   ],
   "source": [
    "df_forests_cleaned.head()"
   ]
  },
  {
   "cell_type": "code",
   "execution_count": 26,
   "id": "829275c3-5493-4aa5-9db3-248ea5b88b6e",
   "metadata": {},
   "outputs": [
    {
     "name": "stdout",
     "output_type": "stream",
     "text": [
      "Number of rows with Country values not in the list: 26\n",
      "                                               Country       1990       2000  \\\n",
      "24                    Bolivia (Plurinational State of)   57804.72   55101.39   \n",
      "29                              British Virgin Islands       3.71       3.67   \n",
      "34                                          Cabo Verde      15.38      39.72   \n",
      "53                                             Czechia    2629.42    2637.29   \n",
      "54               Democratic People's Republic of Korea    6912.03    6454.69   \n",
      "55                    Democratic Republic of the Congo  150629.00  143899.00   \n",
      "66                                            Eswatini     461.14     473.28   \n",
      "73                                       French Guyana    8125.00    8079.44   \n",
      "92                                            Holy See       0.00       0.00   \n",
      "98                          Iran (Islamic Republic of)    9076.06    9325.66   \n",
      "134                   Micronesia (Federated States of)      63.58      63.86   \n",
      "153                                    North Macedonia     912.00     957.55   \n",
      "159                                          Palestine       9.08       9.08   \n",
      "170                                  Republic of Korea    6551.00    6476.00   \n",
      "171                                Republic of Moldova     325.40     344.40   \n",
      "177                                       Saint Helena       2.00       2.00   \n",
      "182                         Saint-Martin (French Part)       1.24       1.24   \n",
      "203                     Svalbard and Jan Mayen Islands       0.00       0.00   \n",
      "222  United Kingdom of Great Britain and Northern I...    2778.00    2954.00   \n",
      "223                        United Republic of Tanzania   57390.01   53670.01   \n",
      "224                       United States Virgin Islands      24.54      20.47   \n",
      "225                           United States of America  302450.00  303536.00   \n",
      "229                 Venezuela (Bolivarian Republic of)   52026.00   49151.00   \n",
      "231                          Wallis and Futuna Islands       5.80       5.81   \n",
      "236                                         © FRA 2021        NaN        NaN   \n",
      "237                                         2021-01-05        NaN        NaN   \n",
      "\n",
      "          2010       2015       2016       2017       2018       2019  \\\n",
      "24    53086.01   52027.22   51750.68   51492.22   51253.24   51033.76   \n",
      "29        3.64       3.62       3.62       3.62       3.62       3.62   \n",
      "34       42.72      44.22      44.52      44.82      45.12      45.42   \n",
      "53     2657.38    2668.39    2669.85    2671.66    2673.47    2675.28   \n",
      "54     6242.39    6136.24    6115.01    6093.78    6072.55    6051.32   \n",
      "55   137169.00  131662.12  130560.74  129459.37  128357.99  127256.61   \n",
      "66      485.43     491.50     492.72     493.93     495.14     496.35   \n",
      "73     8036.50    8020.00    8016.57    8013.14    8009.71    8006.28   \n",
      "92        0.00       0.00       0.00       0.00       0.00       0.00   \n",
      "98    10691.98   10691.98   10702.08   10710.59   10727.03   10743.47   \n",
      "134      64.13      64.27      64.30      64.33      64.36      64.39   \n",
      "153     960.43     994.40    1001.67    1001.49    1001.49    1001.49   \n",
      "159       9.95      10.14      10.14      10.14      10.14      10.14   \n",
      "170    6387.00    6337.00    6325.00    6317.00    6307.00    6297.00   \n",
      "171     374.50     386.40     386.50     386.50     386.50     386.50   \n",
      "177       2.00       2.00       2.00       2.00       2.00       2.00   \n",
      "182       1.24       1.24       1.24       1.24       1.24       1.24   \n",
      "203       0.00       0.00       0.00       0.00       0.00       0.00   \n",
      "222    3059.00    3155.00    3159.00    3164.00    3173.00    3182.00   \n",
      "223   49950.01   48090.00   47621.00   47152.00   46683.00   46214.00   \n",
      "224      18.43      19.16      19.31      19.46      19.61      19.76   \n",
      "225  308720.00  310095.00  310095.00  309795.00  309795.00  309795.00   \n",
      "229   47505.00   46683.00   46543.26   46428.18   46337.76   46272.00   \n",
      "231       5.82       5.83       5.83       5.83       5.83       5.83   \n",
      "236        NaN        NaN        NaN        NaN        NaN        NaN   \n",
      "237        NaN        NaN        NaN        NaN        NaN        NaN   \n",
      "\n",
      "          2020  desk_study  \n",
      "24    50833.76       False  \n",
      "29        3.62        True  \n",
      "34       45.72       False  \n",
      "53     2677.09       False  \n",
      "54     6030.09        True  \n",
      "55   126155.24       False  \n",
      "66      497.56       False  \n",
      "73     8002.85       False  \n",
      "92        0.00        True  \n",
      "98    10751.87       False  \n",
      "134      64.42       False  \n",
      "153    1001.49        True  \n",
      "159      10.14        True  \n",
      "170    6287.00       False  \n",
      "171     386.50       False  \n",
      "177       2.00        True  \n",
      "182       1.24        True  \n",
      "203       0.00       False  \n",
      "222    3190.00       False  \n",
      "223   45745.00       False  \n",
      "224      19.91       False  \n",
      "225  309795.00       False  \n",
      "229   46230.90       False  \n",
      "231       5.83        True  \n",
      "236        NaN       False  \n",
      "237        NaN       False  \n"
     ]
    }
   ],
   "source": [
    "#comparing values of country in df forest vs df countries ref\n",
    "not_in_list = df_forests_cleaned[~df_forests_cleaned['Country'].isin(Countries_with_code)]\n",
    "\n",
    "# Count the number of such rows\n",
    "count_not_in_list = not_in_list.shape[0]\n",
    "\n",
    "print(f'Number of rows with Country values not in the list: {count_not_in_list}')\n",
    "print(not_in_list)\n"
   ]
  },
  {
   "cell_type": "code",
   "execution_count": 27,
   "id": "4d5c4e17-e5c7-401e-82fb-121e502827e2",
   "metadata": {},
   "outputs": [
    {
     "name": "stdout",
     "output_type": "stream",
     "text": [
      "                                               Country       1990       2000  \\\n",
      "24                    Bolivia (Plurinational State of)   57804.72   55101.39   \n",
      "29                              British Virgin Islands       3.71       3.67   \n",
      "34                                          Cabo Verde      15.38      39.72   \n",
      "53                                             Czechia    2629.42    2637.29   \n",
      "54               Democratic People's Republic of Korea    6912.03    6454.69   \n",
      "55                    Democratic Republic of the Congo  150629.00  143899.00   \n",
      "66                                            Eswatini     461.14     473.28   \n",
      "73                                       French Guyana    8125.00    8079.44   \n",
      "92                                            Holy See       0.00       0.00   \n",
      "98                          Iran (Islamic Republic of)    9076.06    9325.66   \n",
      "134                   Micronesia (Federated States of)      63.58      63.86   \n",
      "153                                    North Macedonia     912.00     957.55   \n",
      "159                                          Palestine       9.08       9.08   \n",
      "170                                  Republic of Korea    6551.00    6476.00   \n",
      "171                                Republic of Moldova     325.40     344.40   \n",
      "177                                       Saint Helena       2.00       2.00   \n",
      "182                         Saint-Martin (French Part)       1.24       1.24   \n",
      "203                     Svalbard and Jan Mayen Islands       0.00       0.00   \n",
      "222  United Kingdom of Great Britain and Northern I...    2778.00    2954.00   \n",
      "223                        United Republic of Tanzania   57390.01   53670.01   \n",
      "224                       United States Virgin Islands      24.54      20.47   \n",
      "225                           United States of America  302450.00  303536.00   \n",
      "229                 Venezuela (Bolivarian Republic of)   52026.00   49151.00   \n",
      "231                          Wallis and Futuna Islands       5.80       5.81   \n",
      "236                                         © FRA 2021        NaN        NaN   \n",
      "237                                         2021-01-05        NaN        NaN   \n",
      "\n",
      "          2010       2015       2016       2017       2018       2019  \\\n",
      "24    53086.01   52027.22   51750.68   51492.22   51253.24   51033.76   \n",
      "29        3.64       3.62       3.62       3.62       3.62       3.62   \n",
      "34       42.72      44.22      44.52      44.82      45.12      45.42   \n",
      "53     2657.38    2668.39    2669.85    2671.66    2673.47    2675.28   \n",
      "54     6242.39    6136.24    6115.01    6093.78    6072.55    6051.32   \n",
      "55   137169.00  131662.12  130560.74  129459.37  128357.99  127256.61   \n",
      "66      485.43     491.50     492.72     493.93     495.14     496.35   \n",
      "73     8036.50    8020.00    8016.57    8013.14    8009.71    8006.28   \n",
      "92        0.00       0.00       0.00       0.00       0.00       0.00   \n",
      "98    10691.98   10691.98   10702.08   10710.59   10727.03   10743.47   \n",
      "134      64.13      64.27      64.30      64.33      64.36      64.39   \n",
      "153     960.43     994.40    1001.67    1001.49    1001.49    1001.49   \n",
      "159       9.95      10.14      10.14      10.14      10.14      10.14   \n",
      "170    6387.00    6337.00    6325.00    6317.00    6307.00    6297.00   \n",
      "171     374.50     386.40     386.50     386.50     386.50     386.50   \n",
      "177       2.00       2.00       2.00       2.00       2.00       2.00   \n",
      "182       1.24       1.24       1.24       1.24       1.24       1.24   \n",
      "203       0.00       0.00       0.00       0.00       0.00       0.00   \n",
      "222    3059.00    3155.00    3159.00    3164.00    3173.00    3182.00   \n",
      "223   49950.01   48090.00   47621.00   47152.00   46683.00   46214.00   \n",
      "224      18.43      19.16      19.31      19.46      19.61      19.76   \n",
      "225  308720.00  310095.00  310095.00  309795.00  309795.00  309795.00   \n",
      "229   47505.00   46683.00   46543.26   46428.18   46337.76   46272.00   \n",
      "231       5.82       5.83       5.83       5.83       5.83       5.83   \n",
      "236        NaN        NaN        NaN        NaN        NaN        NaN   \n",
      "237        NaN        NaN        NaN        NaN        NaN        NaN   \n",
      "\n",
      "          2020  desk_study  \n",
      "24    50833.76       False  \n",
      "29        3.62        True  \n",
      "34       45.72       False  \n",
      "53     2677.09       False  \n",
      "54     6030.09        True  \n",
      "55   126155.24       False  \n",
      "66      497.56       False  \n",
      "73     8002.85       False  \n",
      "92        0.00        True  \n",
      "98    10751.87       False  \n",
      "134      64.42       False  \n",
      "153    1001.49        True  \n",
      "159      10.14        True  \n",
      "170    6287.00       False  \n",
      "171     386.50       False  \n",
      "177       2.00        True  \n",
      "182       1.24        True  \n",
      "203       0.00       False  \n",
      "222    3190.00       False  \n",
      "223   45745.00       False  \n",
      "224      19.91       False  \n",
      "225  309795.00       False  \n",
      "229   46230.90       False  \n",
      "231       5.83        True  \n",
      "236        NaN       False  \n",
      "237        NaN       False  \n"
     ]
    }
   ],
   "source": [
    "# Create a new DataFrame df_forests_cleaned_leftover with rows where 'Country' is not in Countries_with_code\n",
    "df_forests_cleaned_leftover = df_forests_cleaned[~df_forests_cleaned['Country'].isin(Countries_with_code)]\n",
    "\n",
    "# Display the result\n",
    "print(df_forests_cleaned_leftover)"
   ]
  },
  {
   "cell_type": "code",
   "execution_count": 28,
   "id": "de198fab-588b-433c-b87a-9f77bb8f3e15",
   "metadata": {},
   "outputs": [],
   "source": [
    "df_forests_cleaned_leftover.to_csv('fra2020-extentofforest_cleaned_leftover.csv', index=False)"
   ]
  },
  {
   "cell_type": "code",
   "execution_count": 29,
   "id": "73625d3c-5ca0-4427-a07a-95acb6b0860c",
   "metadata": {},
   "outputs": [],
   "source": [
    "df_forests_cleaned = df_forests_cleaned[df_forests_cleaned['Country'].isin(Countries_with_code)]"
   ]
  },
  {
   "cell_type": "code",
   "execution_count": 30,
   "id": "28d02e7e-6875-4a49-94ac-874bddd38d3b",
   "metadata": {},
   "outputs": [],
   "source": [
    "df_forests_cleaned.to_csv('fra2020-extentofforest_cleaned.csv', index=False)"
   ]
  },
  {
   "cell_type": "code",
   "execution_count": 32,
   "id": "19ce89a9-b2e3-4dda-a7e9-12c94d5eb852",
   "metadata": {},
   "outputs": [],
   "source": [
    "ref_countries =ref_countries.drop(columns=['Alpha-2 code', 'Numeric code'])"
   ]
  },
  {
   "cell_type": "code",
   "execution_count": 33,
   "id": "397621c2-9da1-4eae-abad-c3206dbc512b",
   "metadata": {},
   "outputs": [
    {
     "data": {
      "text/plain": [
       "Index(['Country', 'Alpha-3 code', 'Latitude (average)', 'Longitude (average)'], dtype='object')"
      ]
     },
     "execution_count": 33,
     "metadata": {},
     "output_type": "execute_result"
    }
   ],
   "source": [
    "ref_countries.columns"
   ]
  },
  {
   "cell_type": "code",
   "execution_count": 35,
   "id": "3901afcc-9450-4548-b543-d06e8299d20b",
   "metadata": {},
   "outputs": [],
   "source": [
    "ref_countries.to_csv('countries_codes_and_coordinates_cleaned.csv', index=False)"
   ]
  },
  {
   "cell_type": "code",
   "execution_count": null,
   "id": "7c17a0b8-2c16-4747-a25f-ecc6d293d1bb",
   "metadata": {},
   "outputs": [],
   "source": []
  }
 ],
 "metadata": {
  "kernelspec": {
   "display_name": "Python 3 (ipykernel)",
   "language": "python",
   "name": "python3"
  },
  "language_info": {
   "codemirror_mode": {
    "name": "ipython",
    "version": 3
   },
   "file_extension": ".py",
   "mimetype": "text/x-python",
   "name": "python",
   "nbconvert_exporter": "python",
   "pygments_lexer": "ipython3",
   "version": "3.12.4"
  }
 },
 "nbformat": 4,
 "nbformat_minor": 5
}

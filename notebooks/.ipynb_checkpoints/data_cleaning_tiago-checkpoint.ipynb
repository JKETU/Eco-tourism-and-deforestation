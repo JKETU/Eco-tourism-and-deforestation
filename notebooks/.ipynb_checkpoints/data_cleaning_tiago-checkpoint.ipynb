{
 "cells": [
  {
   "cell_type": "code",
   "execution_count": 7,
   "id": "a451084c-5ec0-4ab5-9220-263fbf55c142",
   "metadata": {},
   "outputs": [
    {
     "data": {
      "text/html": [
       "<div>\n",
       "<style scoped>\n",
       "    .dataframe tbody tr th:only-of-type {\n",
       "        vertical-align: middle;\n",
       "    }\n",
       "\n",
       "    .dataframe tbody tr th {\n",
       "        vertical-align: top;\n",
       "    }\n",
       "\n",
       "    .dataframe thead th {\n",
       "        text-align: right;\n",
       "    }\n",
       "</style>\n",
       "<table border=\"1\" class=\"dataframe\">\n",
       "  <thead>\n",
       "    <tr style=\"text-align: right;\">\n",
       "      <th></th>\n",
       "      <th>country</th>\n",
       "      <th>MostVisitedNumOfArrivals</th>\n",
       "      <th>MostVisitedDataYear</th>\n",
       "      <th>shareOfVisits</th>\n",
       "    </tr>\n",
       "  </thead>\n",
       "  <tbody>\n",
       "    <tr>\n",
       "      <th>0</th>\n",
       "      <td>India</td>\n",
       "      <td>17914000</td>\n",
       "      <td>2019.0</td>\n",
       "      <td>1.795273</td>\n",
       "    </tr>\n",
       "    <tr>\n",
       "      <th>1</th>\n",
       "      <td>China</td>\n",
       "      <td>30402000</td>\n",
       "      <td>2020.0</td>\n",
       "      <td>3.046773</td>\n",
       "    </tr>\n",
       "    <tr>\n",
       "      <th>2</th>\n",
       "      <td>United States</td>\n",
       "      <td>45037000</td>\n",
       "      <td>2020.0</td>\n",
       "      <td>4.513437</td>\n",
       "    </tr>\n",
       "    <tr>\n",
       "      <th>3</th>\n",
       "      <td>Indonesia</td>\n",
       "      <td>4053000</td>\n",
       "      <td>2020.0</td>\n",
       "      <td>0.406176</td>\n",
       "    </tr>\n",
       "    <tr>\n",
       "      <th>4</th>\n",
       "      <td>Pakistan</td>\n",
       "      <td>966000</td>\n",
       "      <td>2012.0</td>\n",
       "      <td>0.096809</td>\n",
       "    </tr>\n",
       "    <tr>\n",
       "      <th>...</th>\n",
       "      <td>...</td>\n",
       "      <td>...</td>\n",
       "      <td>...</td>\n",
       "      <td>...</td>\n",
       "    </tr>\n",
       "    <tr>\n",
       "      <th>198</th>\n",
       "      <td>Marshall Islands</td>\n",
       "      <td>6100</td>\n",
       "      <td>2019.0</td>\n",
       "      <td>0.000611</td>\n",
       "    </tr>\n",
       "    <tr>\n",
       "      <th>199</th>\n",
       "      <td>San Marino</td>\n",
       "      <td>1904000</td>\n",
       "      <td>2019.0</td>\n",
       "      <td>0.190812</td>\n",
       "    </tr>\n",
       "    <tr>\n",
       "      <th>200</th>\n",
       "      <td>Palau</td>\n",
       "      <td>18400</td>\n",
       "      <td>2020.0</td>\n",
       "      <td>0.001844</td>\n",
       "    </tr>\n",
       "    <tr>\n",
       "      <th>201</th>\n",
       "      <td>Tuvalu</td>\n",
       "      <td>3600</td>\n",
       "      <td>2019.0</td>\n",
       "      <td>0.000361</td>\n",
       "    </tr>\n",
       "    <tr>\n",
       "      <th>202</th>\n",
       "      <td>Total</td>\n",
       "      <td>997842600</td>\n",
       "      <td>NaN</td>\n",
       "      <td>100.000000</td>\n",
       "    </tr>\n",
       "  </tbody>\n",
       "</table>\n",
       "<p>203 rows × 4 columns</p>\n",
       "</div>"
      ],
      "text/plain": [
       "              country  MostVisitedNumOfArrivals  MostVisitedDataYear  \\\n",
       "0               India                  17914000               2019.0   \n",
       "1               China                  30402000               2020.0   \n",
       "2       United States                  45037000               2020.0   \n",
       "3           Indonesia                   4053000               2020.0   \n",
       "4            Pakistan                    966000               2012.0   \n",
       "..                ...                       ...                  ...   \n",
       "198  Marshall Islands                      6100               2019.0   \n",
       "199        San Marino                   1904000               2019.0   \n",
       "200             Palau                     18400               2020.0   \n",
       "201            Tuvalu                      3600               2019.0   \n",
       "202             Total                 997842600                  NaN   \n",
       "\n",
       "     shareOfVisits  \n",
       "0         1.795273  \n",
       "1         3.046773  \n",
       "2         4.513437  \n",
       "3         0.406176  \n",
       "4         0.096809  \n",
       "..             ...  \n",
       "198       0.000611  \n",
       "199       0.190812  \n",
       "200       0.001844  \n",
       "201       0.000361  \n",
       "202     100.000000  \n",
       "\n",
       "[203 rows x 4 columns]"
      ]
     },
     "execution_count": 7,
     "metadata": {},
     "output_type": "execute_result"
    }
   ],
   "source": [
    "import pandas as pd\n",
    "import functions as func\n",
    "import yaml\n",
    "\n",
    "db_locations = func.import_yaml()\n",
    "\n",
    "df = pd.read_csv(config['data_raw']['file3'])\n",
    "\n",
    "df"
   ]
  },
  {
   "cell_type": "code",
   "execution_count": 20,
   "id": "7ff0345f-38ea-4ac0-a83b-174730a86370",
   "metadata": {},
   "outputs": [],
   "source": [
    "#droping last row with total\n",
    "df.drop(df.tail(1).index,inplace=True)\n",
    "\n",
    "\n"
   ]
  },
  {
   "cell_type": "code",
   "execution_count": 10,
   "id": "d2dab979-907d-4925-af5e-66f2f12015c7",
   "metadata": {},
   "outputs": [],
   "source": [
    "#remaning col\n",
    "df = df.rename(columns={'country': 'country_name', \n",
    "                        \"MostVisitedNumOfArrivals\" :\"num_arrivals\",\n",
    "                        \"shareOfVisits\": \"share\"}\n",
    "              )"
   ]
  },
  {
   "cell_type": "code",
   "execution_count": 60,
   "id": "59abf44d-8e7f-4667-b125-c6e9700cf9ba",
   "metadata": {},
   "outputs": [],
   "source": []
  },
  {
   "cell_type": "code",
   "execution_count": 12,
   "id": "a4e6e0e1-c786-4a06-b46b-cce9cbfe4fe4",
   "metadata": {},
   "outputs": [],
   "source": [
    "#drop missing values\n",
    "df.dropna(inplace=True)"
   ]
  },
  {
   "cell_type": "code",
   "execution_count": 14,
   "id": "2b521f7d-62a2-41e9-8c28-1b3c6a49c204",
   "metadata": {},
   "outputs": [],
   "source": [
    "# droping index column and set country_name as index\n",
    "df = df.set_index(\"country_name\")"
   ]
  },
  {
   "cell_type": "code",
   "execution_count": 23,
   "id": "34704c5b-272e-420c-a254-0a2df11595ce",
   "metadata": {},
   "outputs": [
    {
     "name": "stdout",
     "output_type": "stream",
     "text": [
      "<class 'pandas.core.frame.DataFrame'>\n",
      "Index: 202 entries, India to Tuvalu\n",
      "Data columns (total 2 columns):\n",
      " #   Column        Non-Null Count  Dtype  \n",
      "---  ------        --------------  -----  \n",
      " 0   num_arrivals  202 non-null    int64  \n",
      " 1   share         202 non-null    float64\n",
      "dtypes: float64(1), int64(1)\n",
      "memory usage: 4.7+ KB\n"
     ]
    }
   ],
   "source": [
    "df.info()"
   ]
  },
  {
   "cell_type": "code",
   "execution_count": 24,
   "id": "1363977a-9615-4cde-9e63-39cf14c6e92d",
   "metadata": {},
   "outputs": [],
   "source": [
    "#saving cleaned data frame\n",
    "df.to_csv('../data/clean/tourism_data.csv')"
   ]
  },
  {
   "cell_type": "code",
   "execution_count": null,
   "id": "c12cb124-2e4e-472a-8057-a66eef29865c",
   "metadata": {},
   "outputs": [],
   "source": []
  }
 ],
 "metadata": {
  "kernelspec": {
   "display_name": "Python 3 (ipykernel)",
   "language": "python",
   "name": "python3"
  },
  "language_info": {
   "codemirror_mode": {
    "name": "ipython",
    "version": 3
   },
   "file_extension": ".py",
   "mimetype": "text/x-python",
   "name": "python",
   "nbconvert_exporter": "python",
   "pygments_lexer": "ipython3",
   "version": "3.12.4"
  }
 },
 "nbformat": 4,
 "nbformat_minor": 5
}

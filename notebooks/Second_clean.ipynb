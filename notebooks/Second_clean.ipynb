{
 "cells": [
  {
   "cell_type": "code",
   "execution_count": 1,
   "id": "1da1a8f6-e392-4976-896d-6ebb3ab9df45",
   "metadata": {},
   "outputs": [],
   "source": [
    "import pandas as pd\n",
    "df = pd.read_csv(\"../data/raw/fra2020-extentofforest_cleaned.csv\")\n",
    "df2 = pd.read_csv(\"../data/raw/fra2020-extentofforest_cleaned_leftover.csv\")"
   ]
  },
  {
   "cell_type": "code",
   "execution_count": 2,
   "id": "a6573712-b0bf-45bc-b922-b1c8e0ba3518",
   "metadata": {},
   "outputs": [],
   "source": [
    "#drop irrelevant data or trash data\n",
    "df2.drop([8, 15, 16,17,24,23,25] ,inplace=True)"
   ]
  },
  {
   "cell_type": "code",
   "execution_count": 3,
   "id": "c1132cd5-cd95-4f68-b70b-ea5037398d6f",
   "metadata": {},
   "outputs": [],
   "source": [
    "#changing strange values\n",
    "\n",
    "df2[\"Country\"] = df2[\"Country\"].apply(lambda x : x.split(\"(\")[0] if len(x.split(\"(\")) > 1 else x )\n",
    "\n"
   ]
  },
  {
   "cell_type": "code",
   "execution_count": 4,
   "id": "9a6ce09b-6492-4fca-9d2a-e10bb516c745",
   "metadata": {},
   "outputs": [],
   "source": [
    "res = pd.concat([df, df2], ignore_index=True)"
   ]
  },
  {
   "cell_type": "code",
   "execution_count": 5,
   "id": "8c9aa0ab-8c56-4405-8d64-f9c1b29ae79e",
   "metadata": {},
   "outputs": [],
   "source": [
    "res = res.set_index(\"Country\")\n"
   ]
  },
  {
   "cell_type": "code",
   "execution_count": 6,
   "id": "8cb5f522-9037-48aa-8c12-a8d5cfd83db2",
   "metadata": {},
   "outputs": [],
   "source": [
    "res.drop([\"desk_study\",\"1990\",\"2010\",\"2015\",\"2016\",\"2017\",\"2018\",\"2019\"], axis=1, inplace = True)"
   ]
  },
  {
   "cell_type": "code",
   "execution_count": 7,
   "id": "f8fef177-10b3-4423-adc4-1687821964a0",
   "metadata": {},
   "outputs": [
    {
     "data": {
      "text/html": [
       "<div>\n",
       "<style scoped>\n",
       "    .dataframe tbody tr th:only-of-type {\n",
       "        vertical-align: middle;\n",
       "    }\n",
       "\n",
       "    .dataframe tbody tr th {\n",
       "        vertical-align: top;\n",
       "    }\n",
       "\n",
       "    .dataframe thead th {\n",
       "        text-align: right;\n",
       "    }\n",
       "</style>\n",
       "<table border=\"1\" class=\"dataframe\">\n",
       "  <thead>\n",
       "    <tr style=\"text-align: right;\">\n",
       "      <th></th>\n",
       "      <th>2000</th>\n",
       "      <th>2020</th>\n",
       "    </tr>\n",
       "    <tr>\n",
       "      <th>Country</th>\n",
       "      <th></th>\n",
       "      <th></th>\n",
       "    </tr>\n",
       "  </thead>\n",
       "  <tbody>\n",
       "    <tr>\n",
       "      <th>Afghanistan</th>\n",
       "      <td>1208.44</td>\n",
       "      <td>1208.44</td>\n",
       "    </tr>\n",
       "    <tr>\n",
       "      <th>Albania</th>\n",
       "      <td>769.30</td>\n",
       "      <td>788.90</td>\n",
       "    </tr>\n",
       "    <tr>\n",
       "      <th>Algeria</th>\n",
       "      <td>1579.00</td>\n",
       "      <td>1949.00</td>\n",
       "    </tr>\n",
       "    <tr>\n",
       "      <th>American Samoa</th>\n",
       "      <td>17.73</td>\n",
       "      <td>17.13</td>\n",
       "    </tr>\n",
       "    <tr>\n",
       "      <th>Andorra</th>\n",
       "      <td>16.00</td>\n",
       "      <td>16.00</td>\n",
       "    </tr>\n",
       "    <tr>\n",
       "      <th>...</th>\n",
       "      <td>...</td>\n",
       "      <td>...</td>\n",
       "    </tr>\n",
       "    <tr>\n",
       "      <th>United Kingdom of Great Britain and Northern Ireland</th>\n",
       "      <td>2954.00</td>\n",
       "      <td>3190.00</td>\n",
       "    </tr>\n",
       "    <tr>\n",
       "      <th>United Republic of Tanzania</th>\n",
       "      <td>53670.01</td>\n",
       "      <td>45745.00</td>\n",
       "    </tr>\n",
       "    <tr>\n",
       "      <th>United States Virgin Islands</th>\n",
       "      <td>20.47</td>\n",
       "      <td>19.91</td>\n",
       "    </tr>\n",
       "    <tr>\n",
       "      <th>United States of America</th>\n",
       "      <td>303536.00</td>\n",
       "      <td>309795.00</td>\n",
       "    </tr>\n",
       "    <tr>\n",
       "      <th>Venezuela</th>\n",
       "      <td>49151.00</td>\n",
       "      <td>46230.90</td>\n",
       "    </tr>\n",
       "  </tbody>\n",
       "</table>\n",
       "<p>231 rows × 2 columns</p>\n",
       "</div>"
      ],
      "text/plain": [
       "                                                         2000       2020\n",
       "Country                                                                 \n",
       "Afghanistan                                           1208.44    1208.44\n",
       "Albania                                                769.30     788.90\n",
       "Algeria                                               1579.00    1949.00\n",
       "American Samoa                                          17.73      17.13\n",
       "Andorra                                                 16.00      16.00\n",
       "...                                                       ...        ...\n",
       "United Kingdom of Great Britain and Northern Ir...    2954.00    3190.00\n",
       "United Republic of Tanzania                          53670.01   45745.00\n",
       "United States Virgin Islands                            20.47      19.91\n",
       "United States of America                            303536.00  309795.00\n",
       "Venezuela                                            49151.00   46230.90\n",
       "\n",
       "[231 rows x 2 columns]"
      ]
     },
     "execution_count": 7,
     "metadata": {},
     "output_type": "execute_result"
    }
   ],
   "source": [
    "res"
   ]
  },
  {
   "cell_type": "code",
   "execution_count": 8,
   "id": "88132df9-79a1-4f62-8eb4-50f4bba73423",
   "metadata": {},
   "outputs": [],
   "source": [
    "res.to_csv('../data/clean/florestation_clean.csv')"
   ]
  },
  {
   "cell_type": "code",
   "execution_count": null,
   "id": "b4ef0465-eb5f-45a0-8ef3-dd06f6b23e33",
   "metadata": {},
   "outputs": [],
   "source": []
  }
 ],
 "metadata": {
  "kernelspec": {
   "display_name": "Python 3 (ipykernel)",
   "language": "python",
   "name": "python3"
  },
  "language_info": {
   "codemirror_mode": {
    "name": "ipython",
    "version": 3
   },
   "file_extension": ".py",
   "mimetype": "text/x-python",
   "name": "python",
   "nbconvert_exporter": "python",
   "pygments_lexer": "ipython3",
   "version": "3.12.4"
  }
 },
 "nbformat": 4,
 "nbformat_minor": 5
}
